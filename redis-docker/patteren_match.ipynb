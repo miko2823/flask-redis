{
 "cells": [
  {
   "cell_type": "code",
   "execution_count": 2,
   "metadata": {},
   "outputs": [],
   "source": [
    "import cv2\n",
    "import matplotlib.pyplot as plt"
   ]
  },
  {
   "cell_type": "code",
   "execution_count": null,
   "metadata": {},
   "outputs": [],
   "source": [
    "tramp = cv2.imread('data/src/tramp.png', 0)\n",
    "daia4 = cv2.imread('data/src/daia4.png', 0)\n",
    "result = cv2.matchTemplate(tramp, daia4, cv2.TM_CCOEFF_NORMED)\n",
    "min_val, max_val, min_loc, top_left = cv2.minMaxLoc(result)\n",
    "h, w = daia4.shape\n",
    "\n",
    "bottom_right = (top_left[0]+w, top_left[1]+h)\n",
    "rst = cv2.imread(\"data/src/tramp.png\")\n",
    "img = cv2.rectangle(rst, top_left, bottom_right, (255,0,0), 2)\n",
    "cv2.imshow('img', img)\n",
    "cv2.waitKey(0)\n",
    "cv2.destroyAllWindows()"
   ]
  },
  {
   "cell_type": "code",
   "execution_count": null,
   "metadata": {},
   "outputs": [],
   "source": [
    "tramp = cv2.imread('data/src/tramp.png', 0)\n",
    "daia = cv2.imread('data/src/daia.png', 0)\n",
    "\n",
    "result = cv2.matchTemplate(tramp, daia, cv2.TM_CCOEFF_NORMED)\n",
    "tramp.shape, daia.shape, result.shape"
   ]
  },
  {
   "cell_type": "code",
   "execution_count": null,
   "metadata": {},
   "outputs": [],
   "source": [
    "import numpy as np\n",
    "threshold = 0.9\n",
    "loc = np.where(result >= threshold)\n",
    "img = cv2.imread('data/src/tramp.png')\n",
    "h, w = daia.shape\n",
    "#min_val, max_val, min_loc, top_left = cv2.minMaxLoc(result)\n",
    "for top_left in zip(*loc[::-1]):\n",
    "    bottom_right = (top_left[0] + w, top_left[1] + h)# \n",
    "    res = cv2.rectangle(img, top_left, bottom_right, (255,0,0), 2)\n",
    "    \n",
    "cv2.imshow('img', res)\n",
    "cv2.waitKey(0)\n",
    "cv2.destroyAllWindows()"
   ]
  },
  {
   "cell_type": "code",
   "execution_count": null,
   "metadata": {},
   "outputs": [],
   "source": [
    "a = [1,2,3,4,5,6,7,8,9]\n",
    "a = np.array([[1,2,3], [4,5,6]])\n",
    "b = np.array([[10,11,12], [13,14,15]])\n",
    "c = (a, b)\n",
    "\n",
    "for i in zip(*c[::-1]):\n",
    "    print(i)\n",
    "\n",
    "# b = zip(*a)\n",
    "# for i in b:\n",
    "#     print(i)"
   ]
  },
  {
   "cell_type": "code",
   "execution_count": null,
   "metadata": {},
   "outputs": [],
   "source": [
    "import copy\n",
    "img = cv2.imread('data/src/buildings.jpg')\n",
    "img_g = cv2.imread('data/src/buildings.jpg', 0)"
   ]
  },
  {
   "cell_type": "code",
   "execution_count": null,
   "metadata": {},
   "outputs": [],
   "source": [
    "img_h = copy.deepcopy(img)\n",
    "img_dst = cv2.cornerHarris(img_g, 5, 3, 0.04)"
   ]
  },
  {
   "cell_type": "code",
   "execution_count": null,
   "metadata": {},
   "outputs": [],
   "source": [
    "img_h[img_dst > 0.05 * img_dst.max()] = [0,0,255]"
   ]
  },
  {
   "cell_type": "code",
   "execution_count": null,
   "metadata": {},
   "outputs": [],
   "source": [
    "cv2.imshow('img', img_h)\n",
    "cv2.waitKey(0)\n",
    "cv2.destroyAllWindows()"
   ]
  },
  {
   "cell_type": "code",
   "execution_count": null,
   "metadata": {},
   "outputs": [],
   "source": [
    "img_k = copy.deepcopy(img)\n",
    "kaze = cv2.AKAZE_create()\n",
    "kp1 = kaze.detect(img, None)\n",
    "img_k = cv2.drawKeypoints(img_k, kp1, None)\n",
    "cv2.imshow('img', img_k)\n",
    "cv2.waitKey(0)\n",
    "cv2.destroyAllWindows()"
   ]
  },
  {
   "cell_type": "code",
   "execution_count": null,
   "metadata": {},
   "outputs": [],
   "source": [
    "img_o = copy.deepcopy(img)\n",
    "orb = cv2.ORB_create()\n",
    "kp2 = orb.detect(img_o)\n",
    "img_o = cv2.drawKeypoints(img_o, kp2, None)\n",
    "cv2.imshow('img', img_o)\n",
    "cv2.waitKey(0)\n",
    "cv2.destroyAllWindows()"
   ]
  },
  {
   "cell_type": "code",
   "execution_count": 24,
   "metadata": {},
   "outputs": [
    {
     "name": "stdout",
     "output_type": "stream",
     "text": [
      "/Users/kaorinakajima\n"
     ]
    },
    {
     "data": {
      "text/plain": [
       "True"
      ]
     },
     "execution_count": 24,
     "metadata": {},
     "output_type": "execute_result"
    }
   ],
   "source": [
    "%cd\n",
    "# %cd kaggle/open_cv/\n",
    "img = cv2.imread('./Pictures/b_code5.png')\n",
    "img = cv2.rotate(img, cv2.ROTATE_90_CLOCKWISE)\n",
    "cv2.imwrite('./Pictures/b_code5.png', img)\n"
   ]
  },
  {
   "cell_type": "code",
   "execution_count": 25,
   "metadata": {},
   "outputs": [
    {
     "name": "stdout",
     "output_type": "stream",
     "text": [
      "/Users/kaorinakajima\n",
      "<class 'numpy.ndarray'> <class 'numpy.ndarray'>\n"
     ]
    }
   ],
   "source": [
    "# DMatch.distance - 特徴量記述子間の距離．低いほど良い．\n",
    "# DMatch.trainIdx - 学習記述子(参照データ)中の記述子のインデックス．\n",
    "# DMatch.queryIdx - クエリ記述子(検索データ)中の記述子のインデックス．\n",
    "# DMatch.imgIdx - 学習画像のインデックス．\n",
    "\n",
    "\n",
    "%cd\n",
    "company = cv2.imread('./Pictures/b_code5.png',0)\n",
    "test_company = cv2.imread('./Pictures/b_image.png',0)\n",
    "print(type(test_company), type(company))\n",
    "detector = cv2.AKAZE_create()\n",
    "kp1, des1 = detector.detectAndCompute(company, None)\n",
    "kp2, des2 = detector.detectAndCompute(test_company, None)\n",
    "bf = cv2.BFMatcher(cv2.NORM_HAMMING)\n",
    "# return 2mathches \n",
    "matches = bf.knnMatch(des1, des2, k=2)\n",
    "\n",
    "ratio = 0.75\n",
    "good = []\n",
    "# only for knn_match\n",
    "for m,n in matches:\n",
    "    if m.distance < ratio * n.distance:\n",
    "        good.append([m])\n",
    "good = sorted(matches, key=lambda x: x[1].distance)\n",
    "\n",
    "img3 = cv2.drawMatchesKnn(company, kp1, test_company, kp2, good[:30], None, flags=2)\n",
    "cv2.imshow('im', img3)\n",
    "cv2.waitKey(0)\n",
    "cv2.destroyAllWindows()\n"
   ]
  },
  {
   "cell_type": "code",
   "execution_count": 13,
   "metadata": {},
   "outputs": [
    {
     "data": {
      "text/plain": [
       "[]"
      ]
     },
     "execution_count": 13,
     "metadata": {},
     "output_type": "execute_result"
    }
   ],
   "source": [
    "matches"
   ]
  },
  {
   "cell_type": "code",
   "execution_count": 4,
   "metadata": {},
   "outputs": [],
   "source": [
    "# 1点だけ求めて、任意の値分切り取る\n",
    "x, y = kp1[good[0][0].queryIdx].pt\n",
    "h, w = company.shape[:2]\n",
    "y1 = int(y)-300 if int(y)-300 >= 0 else 0\n",
    "y2 = int(y)+300 if int(y)+300 <= h else h\n",
    "x1 = int(x)-300 if int(x)-300 >= 0 else 0\n",
    "x2 = int(x)+300 if int(x)+300 <= w else w\n",
    "    \n",
    "im = company[y1:y2, x1:x2]\n",
    "cv2.imshow('img', im)\n",
    "cv2.waitKey(0)\n",
    "cv2.destroyAllWindows()"
   ]
  },
  {
   "cell_type": "code",
   "execution_count": 10,
   "metadata": {},
   "outputs": [
    {
     "name": "stdout",
     "output_type": "stream",
     "text": [
      "[[<DMatch 0x1238289d0>, <DMatch 0x123828990>], [<DMatch 0x123828750>, <DMatch 0x1238287b0>]]\n",
      "0.1067388870034384\n",
      "160.19343899146426\n",
      "<KeyPoint 0x123842fc0>\n",
      "<KeyPoint 0x123842fc0>\n",
      "0.0\n",
      "0.0\n"
     ]
    },
    {
     "ename": "ZeroDivisionError",
     "evalue": "float division by zero",
     "output_type": "error",
     "traceback": [
      "\u001b[0;31m---------------------------------------------------------------------------\u001b[0m",
      "\u001b[0;31mZeroDivisionError\u001b[0m                         Traceback (most recent call last)",
      "\u001b[0;32m<ipython-input-10-4f7d1782fb3b>\u001b[0m in \u001b[0;36m<module>\u001b[0;34m\u001b[0m\n\u001b[1;32m     34\u001b[0m \u001b[0;34m\u001b[0m\u001b[0m\n\u001b[1;32m     35\u001b[0m \u001b[0;31m# 切り出し一の計算\u001b[0m\u001b[0;34m\u001b[0m\u001b[0;34m\u001b[0m\u001b[0;34m\u001b[0m\u001b[0m\n\u001b[0;32m---> 36\u001b[0;31m \u001b[0mx1\u001b[0m \u001b[0;34m=\u001b[0m \u001b[0mq_x1\u001b[0m \u001b[0;34m-\u001b[0m \u001b[0mt_x1\u001b[0m \u001b[0;34m*\u001b[0m \u001b[0;34m(\u001b[0m\u001b[0mq_len\u001b[0m \u001b[0;34m/\u001b[0m \u001b[0mt_len\u001b[0m\u001b[0;34m)\u001b[0m\u001b[0;34m\u001b[0m\u001b[0;34m\u001b[0m\u001b[0m\n\u001b[0m\u001b[1;32m     37\u001b[0m \u001b[0mx2\u001b[0m \u001b[0;34m=\u001b[0m \u001b[0mx1\u001b[0m \u001b[0;34m+\u001b[0m \u001b[0mtest_company\u001b[0m\u001b[0;34m.\u001b[0m\u001b[0mshape\u001b[0m\u001b[0;34m[\u001b[0m\u001b[0;36m1\u001b[0m\u001b[0;34m]\u001b[0m \u001b[0;34m*\u001b[0m \u001b[0;34m(\u001b[0m\u001b[0mq_len\u001b[0m\u001b[0;34m/\u001b[0m \u001b[0mt_len\u001b[0m\u001b[0;34m)\u001b[0m\u001b[0;34m\u001b[0m\u001b[0;34m\u001b[0m\u001b[0m\n\u001b[1;32m     38\u001b[0m \u001b[0my1\u001b[0m \u001b[0;34m=\u001b[0m \u001b[0mq_y1\u001b[0m \u001b[0;34m-\u001b[0m \u001b[0mt_y1\u001b[0m \u001b[0;34m*\u001b[0m \u001b[0;34m(\u001b[0m\u001b[0mq_len\u001b[0m \u001b[0;34m/\u001b[0m \u001b[0mt_len\u001b[0m\u001b[0;34m)\u001b[0m\u001b[0;34m\u001b[0m\u001b[0;34m\u001b[0m\u001b[0m\n",
      "\u001b[0;31mZeroDivisionError\u001b[0m: float division by zero"
     ]
    }
   ],
   "source": [
    "#特徴点を2つもとめることで、座標を2つ取得できてその角度や長さを知ることができる\n",
    "import math\n",
    "q_kp = []\n",
    "t_kp = []\n",
    "arr = []\n",
    "for p in good[:30]:\n",
    "    for px in p:\n",
    "        if not arr:\n",
    "            arr.append(kp1[px.queryIdx].pt)\n",
    "            \n",
    "#kpはキーポイントのリスト，desは Number\\_of\\_Keypoints \\times 128 のshapeのnumpy.array\n",
    "print(good[:2])\n",
    "for p in good[:30]:\n",
    "    for px in p:\n",
    "        q_kp.append(kp1[px.queryIdx])# 検索データkeypoint\n",
    "        t_kp.append(kp2[px.trainIdx])# 学習データkeypoint\n",
    "# keypointの座標\n",
    "q_x1, q_y1 = q_kp[0].pt # １個目のMATCH　obj\n",
    "q_x2, q_y2 = q_kp[-1].pt# 2こめのMATCH obj\n",
    "# 加工対象画像\n",
    "# Math.atan2(y, x) に対して点 (0, 0) から点 (x, y) までの半直線と、正の x 軸の間の平面上での角度（ラジアン単位）を返します\n",
    "# math.pi 円周率\n",
    "# 特徴点の角度\n",
    "q_deg = math.atan2(q_y2 - q_y1, q_x2 - q_x1) * 180 / math.pi\n",
    "print(q_deg)\n",
    "# 特徴点の距離\n",
    "q_len = math.sqrt((q_x2 - q_x1) ** 2 + (q_y2 - q_y1) ** 2)\n",
    "print(q_len)\n",
    "\n",
    "\n",
    "# テンプレート画像\n",
    "t_x1, t_y1 = t_kp[0].pt\n",
    "t_x2, t_y2 = t_kp[-1].pt\n",
    "print(t_kp[0])\n",
    "print(t_kp[-1])\n",
    "t_deg = math.atan2(t_y2 - t_y1, t_x2- t_x1)* 180 / math.pi\n",
    "print(t_deg)\n",
    "t_len = math.sqrt((t_x2- t_x1)**2 + (t_y2 - t_y1)**2)\n",
    "print(t_len)\n",
    "\n",
    "# 切り出し一の計算\n",
    "x1 = q_x1 - t_x1 * (q_len / t_len)\n",
    "x2 = x1 + test_company.shape[1] * (q_len/ t_len)\n",
    "y1 = q_y1 - t_y1 * (q_len / t_len)\n",
    "y2 = y1 + test_company.shape[0] * (q_len/ t_len)\n",
    "print(x1, x2, y1, y2)\n",
    "print(company.shape)\n",
    "x,y,c, = company.shape\n",
    "size = (x, y)\n",
    "center = (q_x1, q_y1)\n",
    "scale = 1.\n",
    "angle = q_deg - t_deg\n",
    "#回転に対応する\n",
    "rotation_matrix = cv2.getRotationMatrix2D(center, angle, scale)\n",
    "img_rot = cv2.warpAffine(company, rotation_matrix, size, flags=cv2.INTER_CUBIC)\n",
    "img_rot = img_rot[int(y1):int(y2), int(x1):int(x2)]\n",
    "x,y,c = test_company.shape\n",
    "img_rot = cv2.resize(img_rot, (y, x))\n",
    "cv2.imshow('img', img_rot)\n",
    "cv2.waitKey(0)\n",
    "cv2.destroyAllWindows()"
   ]
  },
  {
   "cell_type": "code",
   "execution_count": null,
   "metadata": {},
   "outputs": [],
   "source": [
    "import math\n",
    "math.pi"
   ]
  },
  {
   "cell_type": "code",
   "execution_count": null,
   "metadata": {},
   "outputs": [],
   "source": []
  }
 ],
 "metadata": {
  "kernelspec": {
   "display_name": "Python 3",
   "language": "python",
   "name": "python3"
  },
  "language_info": {
   "codemirror_mode": {
    "name": "ipython",
    "version": 3
   },
   "file_extension": ".py",
   "mimetype": "text/x-python",
   "name": "python",
   "nbconvert_exporter": "python",
   "pygments_lexer": "ipython3",
   "version": "3.7.3"
  }
 },
 "nbformat": 4,
 "nbformat_minor": 2
}
